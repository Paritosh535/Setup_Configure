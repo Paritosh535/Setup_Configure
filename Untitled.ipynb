{
 "cells": [
  {
   "cell_type": "code",
   "execution_count": 1,
   "metadata": {},
   "outputs": [
    {
     "data": {
      "application/javascript": [
       "IPython.notebook.set_autosave_interval(2000)"
      ]
     },
     "metadata": {},
     "output_type": "display_data"
    },
    {
     "name": "stdout",
     "output_type": "stream",
     "text": [
      "Autosaving every 2 seconds\n"
     ]
    }
   ],
   "source": [
    "%autosave 2"
   ]
  },
  {
   "cell_type": "code",
   "execution_count": null,
   "metadata": {},
   "outputs": [
    {
     "name": "stdout",
     "output_type": "stream",
     "text": [
      "[master 5f73b59] update\n",
      " 2 files changed, 334 insertions(+), 8 deletions(-)\n",
      "ssh: Could not resolve hostname github.com: Name or service not known\n",
      "fatal: Could not read from remote repository.\n",
      "\n",
      "Please make sure you have the correct access rights\n",
      "and the repository exists.\n",
      "[master 3c68aa4] update\n",
      " 1 file changed, 324 insertions(+), 609 deletions(-)\n",
      " rewrite Untitled.ipynb (69%)\n",
      "ssh: Could not resolve hostname github.com: Name or service not known\n",
      "fatal: Could not read from remote repository.\n",
      "\n",
      "Please make sure you have the correct access rights\n",
      "and the repository exists.\n",
      "[master 1375dc0] update\n",
      " 1 file changed, 10 insertions(+), 2 deletions(-)\n",
      "ssh: Could not resolve hostname github.com: Name or service not known\n",
      "fatal: Could not read from remote repository.\n",
      "\n",
      "Please make sure you have the correct access rights\n",
      "and the repository exists.\n",
      "[master 5513314] update\n",
      " 1 file changed, 8 insertions(+), 1 deletion(-)\n",
      "ssh: Could not resolve hostname github.com: Name or service not known\n",
      "fatal: Could not read from remote repository.\n",
      "\n",
      "Please make sure you have the correct access rights\n",
      "and the repository exists.\n",
      "[master f9c1c4a] update\n",
      " 1 file changed, 8 insertions(+), 1 deletion(-)\n",
      "ssh: Could not resolve hostname github.com: Name or service not known\n",
      "fatal: Could not read from remote repository.\n",
      "\n",
      "Please make sure you have the correct access rights\n",
      "and the repository exists.\n",
      "[master a1fa092] update\n",
      " 1 file changed, 7 insertions(+)\n",
      "ssh: Could not resolve hostname github.com: Name or service not known\n",
      "fatal: Could not read from remote repository.\n",
      "\n",
      "Please make sure you have the correct access rights\n",
      "and the repository exists.\n",
      "[master ff2e53a] update\n",
      " 1 file changed, 8 insertions(+), 1 deletion(-)\n",
      "ssh: Could not resolve hostname github.com: Name or service not known\n",
      "fatal: Could not read from remote repository.\n",
      "\n",
      "Please make sure you have the correct access rights\n",
      "and the repository exists.\n",
      "[master d95f105] update\n",
      " 1 file changed, 8 insertions(+), 1 deletion(-)\n",
      "ssh: Could not resolve hostname github.com: Name or service not known\n",
      "fatal: Could not read from remote repository.\n",
      "\n",
      "Please make sure you have the correct access rights\n",
      "and the repository exists.\n",
      "[master 01e791f] update\n",
      " 1 file changed, 7 insertions(+)\n",
      "ssh: Could not resolve hostname github.com: Name or service not known\n",
      "fatal: Could not read from remote repository.\n",
      "\n",
      "Please make sure you have the correct access rights\n",
      "and the repository exists.\n",
      "[master c0719d3] update\n",
      " 1 file changed, 8 insertions(+), 1 deletion(-)\n",
      "ssh: Could not resolve hostname github.com: Name or service not known\n",
      "fatal: Could not read from remote repository.\n",
      "\n",
      "Please make sure you have the correct access rights\n",
      "and the repository exists.\n",
      "[master da05880] update\n",
      " 1 file changed, 8 insertions(+), 1 deletion(-)\n",
      "ssh: Could not resolve hostname github.com: Name or service not known\n",
      "fatal: Could not read from remote repository.\n",
      "\n",
      "Please make sure you have the correct access rights\n",
      "and the repository exists.\n",
      "[master 51950e8] update\n",
      " 1 file changed, 7 insertions(+)\n",
      "ssh: Could not resolve hostname github.com: Name or service not known\n",
      "fatal: Could not read from remote repository.\n",
      "\n",
      "Please make sure you have the correct access rights\n",
      "and the repository exists.\n",
      "[master 4a1dc36] update\n",
      " 1 file changed, 8 insertions(+), 1 deletion(-)\n",
      "ssh: Could not resolve hostname github.com: Name or service not known\n",
      "fatal: Could not read from remote repository.\n",
      "\n",
      "Please make sure you have the correct access rights\n",
      "and the repository exists.\n",
      "[master 77f99b1] update\n",
      " 1 file changed, 8 insertions(+), 1 deletion(-)\n",
      "ssh: Could not resolve hostname github.com: Name or service not known\n",
      "fatal: Could not read from remote repository.\n",
      "\n",
      "Please make sure you have the correct access rights\n",
      "and the repository exists.\n",
      "[master 3bccabe] update\n",
      " 1 file changed, 7 insertions(+)\n",
      "ssh: Could not resolve hostname github.com: Name or service not known\n",
      "fatal: Could not read from remote repository.\n",
      "\n",
      "Please make sure you have the correct access rights\n",
      "and the repository exists.\n",
      "[master ccf54d0] update\n",
      " 1 file changed, 8 insertions(+), 1 deletion(-)\n",
      "ssh: Could not resolve hostname github.com: Name or service not known\n",
      "fatal: Could not read from remote repository.\n",
      "\n",
      "Please make sure you have the correct access rights\n",
      "and the repository exists.\n",
      "[master ae36a3b] update\n",
      " 1 file changed, 8 insertions(+), 1 deletion(-)\n",
      "ssh: Could not resolve hostname github.com: Name or service not known\n",
      "fatal: Could not read from remote repository.\n",
      "\n",
      "Please make sure you have the correct access rights\n",
      "and the repository exists.\n",
      "[master 5cba0f2] update\n",
      " 1 file changed, 7 insertions(+)\n",
      "ssh: Could not resolve hostname github.com: Name or service not known\n",
      "fatal: Could not read from remote repository.\n",
      "\n",
      "Please make sure you have the correct access rights\n",
      "and the repository exists.\n",
      "[master b9d3324] update\n",
      " 1 file changed, 8 insertions(+), 1 deletion(-)\n",
      "ssh: Could not resolve hostname github.com: Name or service not known\n",
      "fatal: Could not read from remote repository.\n",
      "\n",
      "Please make sure you have the correct access rights\n",
      "and the repository exists.\n",
      "[master 174800f] update\n",
      " 1 file changed, 8 insertions(+), 1 deletion(-)\n",
      "ssh: Could not resolve hostname github.com: Name or service not known\n",
      "fatal: Could not read from remote repository.\n",
      "\n",
      "Please make sure you have the correct access rights\n",
      "and the repository exists.\n",
      "[master e5f88be] update\n",
      " 1 file changed, 7 insertions(+)\n",
      "ssh: Could not resolve hostname github.com: Name or service not known\n",
      "fatal: Could not read from remote repository.\n",
      "\n",
      "Please make sure you have the correct access rights\n",
      "and the repository exists.\n",
      "[master 125c6c4] update\n",
      " 1 file changed, 8 insertions(+), 1 deletion(-)\n",
      "ssh: Could not resolve hostname github.com: Name or service not known\n",
      "fatal: Could not read from remote repository.\n",
      "\n",
      "Please make sure you have the correct access rights\n",
      "and the repository exists.\n",
      "[master 39cb142] update\n",
      " 1 file changed, 8 insertions(+), 1 deletion(-)\n",
      "ssh: Could not resolve hostname github.com: Name or service not known\n",
      "fatal: Could not read from remote repository.\n",
      "\n",
      "Please make sure you have the correct access rights\n",
      "and the repository exists.\n",
      "[master a4a04e1] update\n",
      " 1 file changed, 7 insertions(+)\n",
      "ssh: Could not resolve hostname github.com: Name or service not known\n",
      "fatal: Could not read from remote repository.\n",
      "\n",
      "Please make sure you have the correct access rights\n",
      "and the repository exists.\n",
      "[master 6dd6d83] update\n",
      " 1 file changed, 8 insertions(+), 1 deletion(-)\n",
      "ssh: Could not resolve hostname github.com: Name or service not known\n",
      "fatal: Could not read from remote repository.\n",
      "\n",
      "Please make sure you have the correct access rights\n",
      "and the repository exists.\n",
      "[master 05b710b] update\n",
      " 1 file changed, 8 insertions(+), 1 deletion(-)\n",
      "ssh: Could not resolve hostname github.com: Name or service not known\n",
      "fatal: Could not read from remote repository.\n",
      "\n",
      "Please make sure you have the correct access rights\n",
      "and the repository exists.\n",
      "[master a1aa5fe] update\n",
      " 1 file changed, 7 insertions(+)\n",
      "ssh: Could not resolve hostname github.com: Name or service not known\n",
      "fatal: Could not read from remote repository.\n",
      "\n",
      "Please make sure you have the correct access rights\n",
      "and the repository exists.\n",
      "[master de16353] update\n",
      " 1 file changed, 8 insertions(+), 1 deletion(-)\n",
      "ssh: Could not resolve hostname github.com: Name or service not known\n",
      "fatal: Could not read from remote repository.\n",
      "\n",
      "Please make sure you have the correct access rights\n",
      "and the repository exists.\n",
      "[master 7258a5c] update\n",
      " 1 file changed, 8 insertions(+), 1 deletion(-)\n",
      "ssh: Could not resolve hostname github.com: Name or service not known\n",
      "fatal: Could not read from remote repository.\n",
      "\n",
      "Please make sure you have the correct access rights\n",
      "and the repository exists.\n",
      "[master 81ad953] update\n",
      " 1 file changed, 7 insertions(+)\n",
      "ssh: Could not resolve hostname github.com: Name or service not known\n",
      "fatal: Could not read from remote repository.\n",
      "\n",
      "Please make sure you have the correct access rights\n",
      "and the repository exists.\n",
      "[master 93da5e8] update\n",
      " 1 file changed, 8 insertions(+), 1 deletion(-)\n",
      "ssh: Could not resolve hostname github.com: Name or service not known\n",
      "fatal: Could not read from remote repository.\n",
      "\n",
      "Please make sure you have the correct access rights\n",
      "and the repository exists.\n"
     ]
    },
    {
     "name": "stdout",
     "output_type": "stream",
     "text": [
      "[master 26ca829] update\n",
      " 1 file changed, 8 insertions(+), 1 deletion(-)\n",
      "ssh: Could not resolve hostname github.com: Name or service not known\n",
      "fatal: Could not read from remote repository.\n",
      "\n",
      "Please make sure you have the correct access rights\n",
      "and the repository exists.\n",
      "[master 62e0b21] update\n",
      " 1 file changed, 14 insertions(+), 1 deletion(-)\n",
      "ssh: Could not resolve hostname github.com: Name or service not known\n",
      "fatal: Could not read from remote repository.\n",
      "\n",
      "Please make sure you have the correct access rights\n",
      "and the repository exists.\n",
      "[master 1a5f249] update\n",
      " 1 file changed, 9 insertions(+), 2 deletions(-)\n",
      "ssh: Could not resolve hostname github.com: Name or service not known\n",
      "fatal: Could not read from remote repository.\n",
      "\n",
      "Please make sure you have the correct access rights\n",
      "and the repository exists.\n",
      "[master e267560] update\n",
      " 1 file changed, 8 insertions(+), 1 deletion(-)\n",
      "ssh: Could not resolve hostname github.com: Name or service not known\n",
      "fatal: Could not read from remote repository.\n",
      "\n",
      "Please make sure you have the correct access rights\n",
      "and the repository exists.\n",
      "[master 06f2350] update\n",
      " 1 file changed, 8 insertions(+), 1 deletion(-)\n",
      "ssh: Could not resolve hostname github.com: Name or service not known\n",
      "fatal: Could not read from remote repository.\n",
      "\n",
      "Please make sure you have the correct access rights\n",
      "and the repository exists.\n",
      "[master a027c83] update\n",
      " 1 file changed, 7 insertions(+)\n",
      "ssh: Could not resolve hostname github.com: Name or service not known\n",
      "fatal: Could not read from remote repository.\n",
      "\n",
      "Please make sure you have the correct access rights\n",
      "and the repository exists.\n",
      "[master 3e056ca] update\n",
      " 1 file changed, 8 insertions(+), 1 deletion(-)\n"
     ]
    }
   ],
   "source": [
    "for x in range(40):\n",
    "    !git add .\n",
    "    !git commit -m \"update\"\n",
    "    !git push origin master"
   ]
  },
  {
   "cell_type": "code",
   "execution_count": 6,
   "metadata": {},
   "outputs": [],
   "source": [
    "import numpy as np"
   ]
  },
  {
   "cell_type": "code",
   "execution_count": 52,
   "metadata": {},
   "outputs": [],
   "source": [
    "arr=np.arange(10)"
   ]
  },
  {
   "cell_type": "code",
   "execution_count": 53,
   "metadata": {},
   "outputs": [
    {
     "data": {
      "text/plain": [
       "array([0, 1, 2, 3, 4, 5, 6, 7, 8, 9])"
      ]
     },
     "execution_count": 53,
     "metadata": {},
     "output_type": "execute_result"
    }
   ],
   "source": [
    "arr"
   ]
  },
  {
   "cell_type": "code",
   "execution_count": 54,
   "metadata": {},
   "outputs": [],
   "source": [
    "arr_slice=arr[5:8].copy()"
   ]
  },
  {
   "cell_type": "code",
   "execution_count": 55,
   "metadata": {},
   "outputs": [],
   "source": [
    "arr1=arr_slice[1:2]"
   ]
  },
  {
   "cell_type": "code",
   "execution_count": 56,
   "metadata": {},
   "outputs": [],
   "source": [
    "arr1[0]=40"
   ]
  },
  {
   "cell_type": "code",
   "execution_count": 20,
   "metadata": {},
   "outputs": [],
   "source": [
    "arr_slice[1]=100"
   ]
  },
  {
   "cell_type": "code",
   "execution_count": 57,
   "metadata": {},
   "outputs": [
    {
     "data": {
      "text/plain": [
       "array([0, 1, 2, 3, 4, 5, 6, 7, 8, 9])"
      ]
     },
     "execution_count": 57,
     "metadata": {},
     "output_type": "execute_result"
    }
   ],
   "source": [
    "arr."
   ]
  },
  {
   "cell_type": "code",
   "execution_count": 71,
   "metadata": {},
   "outputs": [],
   "source": [
    "arr3d=np.array([[[1,2,3],[4,5,6]],[[7,8,9],[1,5,9]]])"
   ]
  },
  {
   "cell_type": "code",
   "execution_count": 69,
   "metadata": {},
   "outputs": [
    {
     "data": {
      "text/plain": [
       "array([[[1, 2, 3],\n",
       "        [4, 5, 6]],\n",
       "\n",
       "       [[7, 8, 9],\n",
       "        [1, 5, 9]]])"
      ]
     },
     "execution_count": 69,
     "metadata": {},
     "output_type": "execute_result"
    }
   ],
   "source": [
    "arr3d"
   ]
  },
  {
   "cell_type": "code",
   "execution_count": 73,
   "metadata": {},
   "outputs": [
    {
     "data": {
      "text/plain": [
       "array([[[1, 2, 3],\n",
       "        [4, 5, 6]],\n",
       "\n",
       "       [[7, 8, 9],\n",
       "        [1, 5, 9]]])"
      ]
     },
     "execution_count": 73,
     "metadata": {},
     "output_type": "execute_result"
    }
   ],
   "source": [
    "arr3d"
   ]
  },
  {
   "cell_type": "code",
   "execution_count": 72,
   "metadata": {},
   "outputs": [
    {
     "data": {
      "text/plain": [
       "array([7, 8, 9])"
      ]
     },
     "execution_count": 72,
     "metadata": {},
     "output_type": "execute_result"
    }
   ],
   "source": [
    "arr3d[1,0]"
   ]
  },
  {
   "cell_type": "code",
   "execution_count": 75,
   "metadata": {},
   "outputs": [
    {
     "data": {
      "text/plain": [
       "array([[ 0.78889949,  0.58445242,  0.1488046 , -0.63031812],\n",
       "       [-1.35744704,  2.64305548,  0.0219688 ,  1.39053517],\n",
       "       [-0.8367841 ,  0.21620382, -1.16055826, -1.24141834],\n",
       "       [ 0.96567373, -0.73672747, -1.5060514 , -1.18855743],\n",
       "       [-1.11374131, -1.57733666, -0.275032  , -1.94153864],\n",
       "       [-1.10792543,  0.4680199 , -0.50899669,  0.12295485],\n",
       "       [ 0.5589201 , -0.55075792,  0.92705071,  0.47653981]])"
      ]
     },
     "execution_count": 75,
     "metadata": {},
     "output_type": "execute_result"
    }
   ],
   "source": [
    "data=np.random.randn(7,4)\n",
    "data\n"
   ]
  },
  {
   "cell_type": "code",
   "execution_count": null,
   "metadata": {},
   "outputs": [],
   "source": []
  },
  {
   "cell_type": "code",
   "execution_count": null,
   "metadata": {},
   "outputs": [],
   "source": []
  },
  {
   "cell_type": "code",
   "execution_count": null,
   "metadata": {},
   "outputs": [],
   "source": []
  },
  {
   "cell_type": "code",
   "execution_count": 3,
   "metadata": {},
   "outputs": [],
   "source": [
    "def iou(xa1,ya1,xa2,ya2,xb1,yb1,xb2,yb2):\n",
    "\n",
    "    area_a = (xa2-xa1) * (ya2-ya1)\n",
    "    area_b = (xb2-xb1) * (yb2-yb1)\n",
    "\n",
    "    xi1 = max(xa1, xb1)\n",
    "    xi2 = max(xa2, xb2)\n",
    "\n",
    "    yi1 = min(ya1, yb1)\n",
    "    yi2 = min(ya2, yb2)\n",
    "\n",
    "    area_int = (xi2 - xi1) * (yi2 - yi1)\n",
    "\n",
    "    iou_ = area_int/((area_a + area_b) - area_int) \n",
    "    print(iou)\n",
    "    return iou_ \n"
   ]
  },
  {
   "cell_type": "code",
   "execution_count": null,
   "metadata": {},
   "outputs": [],
   "source": [
    "iou()"
   ]
  }
 ],
 "metadata": {
  "kernelspec": {
   "display_name": "Python 3",
   "language": "python",
   "name": "python3"
  },
  "language_info": {
   "codemirror_mode": {
    "name": "ipython",
    "version": 3
   },
   "file_extension": ".py",
   "mimetype": "text/x-python",
   "name": "python",
   "nbconvert_exporter": "python",
   "pygments_lexer": "ipython3",
   "version": "3.6.8"
  }
 },
 "nbformat": 4,
 "nbformat_minor": 2
}
